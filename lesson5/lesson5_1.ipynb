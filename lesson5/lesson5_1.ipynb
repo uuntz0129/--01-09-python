{
 "cells": [
  {
   "cell_type": "code",
   "execution_count": null,
   "metadata": {},
   "outputs": [],
   "source": [
    "try:\n",
    "    height = float(input('請輸入身高(公分):'))\n",
    "    print('您的身高:', height, '公分')\n",
    "    weight = float(input('請輸入體重(公斤):'))\n",
    "    print('您的體重:', weight, '公斤')\n",
    "    BMI = weight / (height/100)**2\n",
    "\n",
    "    print('您的BMI值:', round(BMI,ndigits=1))\n",
    "    \n",
    "    if(BMI >= 18.5 and BMI < 24):\n",
    "        print(\"體重正常\")\n",
    "\n",
    "    else:\n",
    "        print(\"體重須注意\")\n",
    "        \n",
    "        if(BMI < 18.5):\n",
    "            print(\"體重過輕\")\n",
    "\n",
    "        elif(BMI >= 24 and BMI < 27):\n",
    "            print(\"體重過重\")\n",
    "\n",
    "        elif(BMI >= 27 and BMI < 30):\n",
    "            print(\"輕度肥胖\")\n",
    "\n",
    "        elif(BMI >= 30 and BMI < 35):\n",
    "            print(\"中度肥胖\")\n",
    "\n",
    "        else:\n",
    "            print(\"重度肥胖\")\n",
    "\n",
    "except:\n",
    "    print(\"輸入錯誤! 請輸入數字!!!\")"
   ]
  },
  {
   "cell_type": "code",
   "execution_count": null,
   "metadata": {},
   "outputs": [],
   "source": [
    "#1 ~ 100的加總\n",
    "value = 1\n",
    "total = 0\n",
    "while value <= 100: \n",
    "    total += value   \n",
    "    value += 1\n",
    "\n",
    "print(\"1~100的加總是:\", total)"
   ]
  },
  {
   "cell_type": "code",
   "execution_count": 2,
   "metadata": {},
   "outputs": [
    {
     "name": "stdout",
     "output_type": "stream",
     "text": [
      "1-100的加總是: 5050\n"
     ]
    }
   ],
   "source": [
    "value = 1\n",
    "total = 0\n",
    "while value <= 100:\n",
    "    total += value\n",
    "    value += 1\n",
    "print(\"1-100的加總是:\",total)\n"
   ]
  },
  {
   "cell_type": "code",
   "execution_count": 1,
   "metadata": {},
   "outputs": [
    {
     "name": "stdout",
     "output_type": "stream",
     "text": [
      "1-100的加總是: 5050\n"
     ]
    }
   ],
   "source": [
    "value = 1\n",
    "total = 0\n",
    "while True:\n",
    "    total += value\n",
    "    value += 1\n",
    "    if value > 100:\n",
    "        break\n",
    "print(\"1-100的加總是:\",total)"
   ]
  },
  {
   "cell_type": "code",
   "execution_count": 2,
   "metadata": {},
   "outputs": [
    {
     "name": "stdout",
     "output_type": "stream",
     "text": [
      "Lily\n",
      "程式結束\n"
     ]
    }
   ],
   "source": [
    "while True:\n",
    "    stuff = input(\"請輸入小寫英文字[按q會離開]:\")\n",
    "    if stuff==\"q\":\n",
    "        break\n",
    "    print(stuff.capitalize())\n",
    "print(\"程式結束\")"
   ]
  },
  {
   "cell_type": "code",
   "execution_count": 4,
   "metadata": {},
   "outputs": [
    {
     "name": "stdout",
     "output_type": "stream",
     "text": [
      "Doris\n",
      "程式結束\n"
     ]
    }
   ],
   "source": [
    "while True:\n",
    "    g = input(\"請輸入英文小寫「按q會離開」:\")\n",
    "    if g ==\"q\":\n",
    "        break\n",
    "    print(g.capitalize())\n",
    "print(\"程式結束\")"
   ]
  },
  {
   "cell_type": "code",
   "execution_count": null,
   "metadata": {},
   "outputs": [],
   "source": [
    "#請設計一個程式，讓使用者輸入數值，只有加總正偶數值，不加總正奇數值，如果輸入負數，結束程式。\n",
    "total = 0\n",
    "while True:\n",
    "    input_value = int(input(\"請輸入數值:\"))\n",
    "    if input_value < 0:\n",
    "        break\n",
    "    if input_value % 2 == 1:\n",
    "        continue\n",
    "    else:\n",
    "        total += input_value\n",
    "\n",
    "print(\"加總為:\",total)"
   ]
  },
  {
   "cell_type": "code",
   "execution_count": 10,
   "metadata": {},
   "outputs": [
    {
     "ename": "ValueError",
     "evalue": "invalid literal for int() with base 10: ''",
     "output_type": "error",
     "traceback": [
      "\u001b[1;31m---------------------------------------------------------------------------\u001b[0m",
      "\u001b[1;31mValueError\u001b[0m                                Traceback (most recent call last)",
      "Cell \u001b[1;32mIn[10], line 3\u001b[0m\n\u001b[0;32m      1\u001b[0m total \u001b[38;5;241m=\u001b[39m \u001b[38;5;241m0\u001b[39m\n\u001b[0;32m      2\u001b[0m \u001b[38;5;28;01mwhile\u001b[39;00m \u001b[38;5;28;01mTrue\u001b[39;00m:\n\u001b[1;32m----> 3\u001b[0m     input_value\u001b[38;5;241m=\u001b[39m \u001b[38;5;28;43mint\u001b[39;49m\u001b[43m(\u001b[49m\u001b[38;5;28;43minput\u001b[39;49m\u001b[43m(\u001b[49m\u001b[38;5;124;43m\"\u001b[39;49m\u001b[38;5;124;43m請輸入數值:\u001b[39;49m\u001b[38;5;124;43m\"\u001b[39;49m\u001b[43m)\u001b[49m\u001b[43m)\u001b[49m\n\u001b[0;32m      4\u001b[0m     \u001b[38;5;28;01mif\u001b[39;00m input_value \u001b[38;5;241m%\u001b[39m \u001b[38;5;241m2\u001b[39m \u001b[38;5;241m==\u001b[39m\u001b[38;5;241m1\u001b[39m:\n\u001b[0;32m      5\u001b[0m         \u001b[38;5;28;01mcontinue\u001b[39;00m\n",
      "\u001b[1;31mValueError\u001b[0m: invalid literal for int() with base 10: ''"
     ]
    }
   ],
   "source": [
    "total = 0\n",
    "while True:\n",
    "    input_value= int(input(\"請輸入數值:\"))\n",
    "    if input_value < 0:\n",
    "        break#交換順序後為什麼不能執行？\n",
    "    if input_value % 2 ==1:\n",
    "        continue\n",
    "    else:\n",
    "        total += input_value\n",
    "print(\"加總為:\",total)"
   ]
  }
 ],
 "metadata": {
  "kernelspec": {
   "display_name": "Python 3",
   "language": "python",
   "name": "python3"
  },
  "language_info": {
   "codemirror_mode": {
    "name": "ipython",
    "version": 3
   },
   "file_extension": ".py",
   "mimetype": "text/x-python",
   "name": "python",
   "nbconvert_exporter": "python",
   "pygments_lexer": "ipython3",
   "version": "3.10.8"
  }
 },
 "nbformat": 4,
 "nbformat_minor": 2
}
